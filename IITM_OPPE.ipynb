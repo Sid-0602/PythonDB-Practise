{
  "cells": [
    {
      "cell_type": "markdown",
      "metadata": {
        "id": "-50YzA53rNcx"
      },
      "source": [
        "# List of Tuple and tuple operations\n"
      ]
    },
    {
      "cell_type": "code",
      "execution_count": 1,
      "metadata": {
        "id": "nv2ckEu6qOSM"
      },
      "outputs": [],
      "source": [
        "lot = [('T001','Amigos','Blue'),('T002','Thunder','Red'),('T003','Rainbow','White')]"
      ]
    },
    {
      "cell_type": "code",
      "execution_count": 2,
      "metadata": {
        "colab": {
          "base_uri": "https://localhost:8080/"
        },
        "id": "ILiCw2KwqjsC",
        "outputId": "ce0c34a7-19fa-49ec-f34d-fa74dacc3eab"
      },
      "outputs": [
        {
          "name": "stdout",
          "output_type": "stream",
          "text": [
            "T001\n",
            "T002\n",
            "T003\n",
            "('T001', 'Amigos', 'Blue')\n",
            "('T002', 'Thunder', 'Red')\n",
            "('T003', 'Rainbow', 'White')\n"
          ]
        }
      ],
      "source": [
        "for i in lot:\n",
        "  print(i[0])\n",
        "\n",
        "print(lot[0])\n",
        "print(lot[1])\n",
        "print(lot[2])\n"
      ]
    },
    {
      "cell_type": "code",
      "execution_count": 4,
      "metadata": {
        "colab": {
          "base_uri": "https://localhost:8080/"
        },
        "id": "9-MqlZ1DrA6f",
        "outputId": "5d64d839-d61e-4de4-c681-6e9ca6021ab0"
      },
      "outputs": [
        {
          "name": "stdout",
          "output_type": "stream",
          "text": [
            "T001\n",
            "Blue\n",
            "******\n",
            "Amigos\n",
            "Thunder\n",
            "Rainbow\n"
          ]
        }
      ],
      "source": [
        "print(lot[0][0])\n",
        "print(lot[0][2])\n",
        "\n",
        "print('******')\n",
        "for i in lot:\n",
        "  print(i[1])\n"
      ]
    },
    {
      "cell_type": "markdown",
      "metadata": {
        "id": "KP9vGF3pqgXf"
      },
      "source": [
        "# How to Open text file and read from it\n"
      ]
    },
    {
      "cell_type": "code",
      "execution_count": null,
      "metadata": {
        "id": "LEAqsv2Yr4eo"
      },
      "outputs": [],
      "source": [
        "a=open('/content/sample_data/name.txt','r')"
      ]
    },
    {
      "cell_type": "code",
      "execution_count": null,
      "metadata": {
        "id": "gxJidM9nsizl"
      },
      "outputs": [],
      "source": [
        "name = a.read()"
      ]
    },
    {
      "cell_type": "code",
      "execution_count": null,
      "metadata": {
        "colab": {
          "base_uri": "https://localhost:8080/"
        },
        "id": "FoA-09Lcskzc",
        "outputId": "6708d4bc-6fdc-46c1-c6e3-02dd45d0e8c1"
      },
      "outputs": [
        {
          "name": "stdout",
          "output_type": "stream",
          "text": [
            "Amigos\n"
          ]
        }
      ],
      "source": [
        "print(name)"
      ]
    },
    {
      "cell_type": "markdown",
      "metadata": {
        "id": "HEQmlOkOAX-o"
      },
      "source": [
        "  # Connect Database:\n",
        "\n",
        "  1. Create connection\n",
        "  2. Crate cursor\n",
        "  3. Execute query\n",
        "  4. Close cursor\n",
        "  5. close connection\n",
        "  "
      ]
    },
    {
      "cell_type": "code",
      "execution_count": 12,
      "metadata": {
        "id": "_CrNisy2smao"
      },
      "outputs": [],
      "source": [
        "import psycopg2, os, sys #import this to establish connection and create cursor."
      ]
    },
    {
      "cell_type": "code",
      "execution_count": 13,
      "metadata": {
        "id": "gAIGbBaZAnSO"
      },
      "outputs": [],
      "source": [
        "database = 'flis'\n",
        "user = 'postgres'\n",
        "password = 'sidjadhav0602'\n",
        "port = '5432'\n",
        "host = 'localhost'\n"
      ]
    },
    {
      "cell_type": "code",
      "execution_count": 27,
      "metadata": {
        "colab": {
          "base_uri": "https://localhost:8080/"
        },
        "id": "9bk4zMdVCxCX",
        "outputId": "b5800308-cca1-4c2b-e1dd-a63ef5dac5de"
      },
      "outputs": [
        {
          "name": "stdout",
          "output_type": "stream",
          "text": [
            "Connection Successful!\n",
            "[('P1001', 'Rudra', datetime.date(2003, 5, 1), 99, 'T0001'), ('P1002', 'Advik', datetime.date(2004, 6, 1), 89, 'T0001'), ('P1003', 'Adi', datetime.date(2003, 5, 7), 79, 'T0001'), ('P1004', 'veer', datetime.date(2003, 8, 12), 69, 'T0001'), ('P1005', 'Ahmed', datetime.date(2003, 9, 13), 59, 'T0001'), ('P1006', 'Viyan', datetime.date(2002, 10, 14), 49, 'T0001'), ('P1007', 'Pramav', datetime.date(2003, 11, 15), 39, 'T0001'), ('P1008', 'Shlok', datetime.date(2005, 12, 16), 29, 'T0001'), ('P1009', 'Madhav', datetime.date(2004, 1, 17), 19, 'T0001'), ('P1011', 'Adam', datetime.date(2003, 3, 19), 1, 'T0001'), ('P1012', 'Aarush', datetime.date(2003, 4, 20), 20, 'T0001'), ('P2001', 'Kiaan', datetime.date(2003, 12, 30), 1, 'T0002'), ('P2002', 'Rudrash', datetime.date(2004, 11, 29), 2, 'T0002'), ('P2003', 'Tanish', datetime.date(2002, 10, 28), 3, 'T0002'), ('P2004', 'Anand', datetime.date(2001, 9, 27), 4, 'T0002'), ('P2005', 'Bhaskar', datetime.date(2005, 8, 24), 5, 'T0002'), ('P2006', 'Arup', datetime.date(2003, 7, 23), 6, 'T0002'), ('P2007', 'Srihan', datetime.date(2003, 6, 20), 7, 'T0002'), ('P2008', 'Advit', datetime.date(2003, 5, 15), 10, 'T0002'), ('P2009', 'Raghav', datetime.date(2003, 4, 12), 11, 'T0002'), ('P2010', 'Krishna', datetime.date(2003, 3, 9), 12, 'T0002'), ('P2011', 'Manas', datetime.date(2004, 2, 8), 13, 'T0002'), ('P2012', 'Zayan', datetime.date(2003, 1, 1), 14, 'T0002'), ('P3001', 'Daksh', datetime.date(2003, 12, 30), 10, 'T0003'), ('P3002', 'Aditya', datetime.date(2004, 11, 29), 26, 'T0003'), ('P3003', 'Jay', datetime.date(2004, 10, 28), 34, 'T0003'), ('P3004', 'Ravi', datetime.date(2001, 9, 27), 39, 'T0003'), ('P3005', 'Suman', datetime.date(2004, 8, 24), 40, 'T0003'), ('P3006', 'Souvik', datetime.date(2003, 7, 22), 51, 'T0003'), ('P3007', 'Tanmoy', datetime.date(2005, 6, 20), 56, 'T0003'), ('P3008', 'Arijit', datetime.date(2003, 5, 15), 74, 'T0003'), ('P3009', 'Shivansh', datetime.date(2003, 4, 22), 84, 'T0003'), ('P3010', 'Elvin', datetime.date(2005, 3, 9), 93, 'T0003'), ('P3011', 'Kabir', datetime.date(2003, 2, 8), 16, 'T0003'), ('P3012', 'Joseph', datetime.date(2002, 1, 1), 15, 'T0003'), ('P4001', 'William', datetime.date(2003, 12, 30), 10, 'T0004'), ('P4002', 'James', datetime.date(2004, 11, 29), 31, 'T0004'), ('P4003', 'Issac', datetime.date(2004, 10, 28), 44, 'T0004'), ('P4004', 'Max', datetime.date(2001, 9, 22), 55, 'T0004'), ('P4005', 'Teddy', datetime.date(2004, 8, 24), 65, 'T0004'), ('P4006', 'Finley', datetime.date(2003, 6, 22), 71, 'T0004'), ('P4007', 'Jack', datetime.date(2005, 6, 20), 66, 'T0004'), ('P4008', 'henry', datetime.date(2003, 5, 15), 44, 'T0004'), ('P4009', 'Harry', datetime.date(2003, 4, 22), 88, 'T0004'), ('P4010', 'Charlie', datetime.date(2005, 3, 9), 93, 'T0004'), ('P4011', 'George', datetime.date(2003, 2, 8), 17, 'T0004'), ('P4012', 'Alexander', datetime.date(2002, 1, 1), 29, 'T0004'), ('P5001', 'Mark', datetime.date(2002, 5, 22), 15, 'T0005'), ('P5002', 'Donald', datetime.date(2004, 11, 29), 10, 'T0005'), ('P5003', 'Steven', datetime.date(2004, 10, 28), 61, 'T0005'), ('P5004', 'Paul', datetime.date(2001, 9, 23), 17, 'T0005'), ('P5005', 'Andrew', datetime.date(2004, 8, 24), 18, 'T0005'), ('P5006', 'Joshua', datetime.date(2003, 7, 22), 7, 'T0005'), ('P5007', 'Kevin', datetime.date(2005, 6, 22), 8, 'T0005'), ('P5008', 'Charles', datetime.date(2003, 5, 15), 89, 'T0005'), ('P5009', 'George', datetime.date(2000, 4, 22), 99, 'T0005'), ('P5010', 'Stephen', datetime.date(1999, 3, 9), 16, 'T0005'), ('P5011', 'Jack', datetime.date(2000, 2, 8), 26, 'T0005'), ('P5012', 'Jerry', datetime.date(2000, 1, 1), 3, 'T0005'), ('P6001', 'Mark', datetime.date(2002, 5, 22), 15, 'T0006'), ('P6002', 'Robert', datetime.date(2004, 11, 28), 10, 'T0006'), ('P6003', 'Michael', datetime.date(2004, 10, 26), 61, 'T0006'), ('P6004', 'David', datetime.date(2001, 9, 22), 22, 'T0006'), ('P6005', 'Daniel', datetime.date(2004, 8, 20), 8, 'T0006'), ('P6006', 'Charles', datetime.date(2003, 7, 20), 10, 'T0006'), ('P6007', 'Kevin', datetime.date(2005, 6, 14), 12, 'T0006'), ('P6008', 'Mathew', datetime.date(2003, 5, 25), 14, 'T0006'), ('P6009', 'Mark', datetime.date(2000, 4, 3), 16, 'T0006'), ('P6010', 'Anthony', datetime.date(1999, 3, 5), 20, 'T0006'), ('P6011', 'Donald', datetime.date(2000, 2, 14), 10, 'T0006'), ('P6012', 'Steven', datetime.date(2000, 5, 1), 30, 'T0006')]\n",
            "Size of result tuple:  5\n",
            "P1001 Rudra\n",
            "P1002 Advik\n",
            "P1003 Adi\n",
            "P1004 veer\n",
            "P1005 Ahmed\n",
            "P1006 Viyan\n",
            "P1007 Pramav\n",
            "P1008 Shlok\n",
            "P1009 Madhav\n",
            "P1011 Adam\n",
            "P1012 Aarush\n",
            "P2001 Kiaan\n",
            "P2002 Rudrash\n",
            "P2003 Tanish\n",
            "P2004 Anand\n",
            "P2005 Bhaskar\n",
            "P2006 Arup\n",
            "P2007 Srihan\n",
            "P2008 Advit\n",
            "P2009 Raghav\n",
            "P2010 Krishna\n",
            "P2011 Manas\n",
            "P2012 Zayan\n",
            "P3001 Daksh\n",
            "P3002 Aditya\n",
            "P3003 Jay\n",
            "P3004 Ravi\n",
            "P3005 Suman\n",
            "P3006 Souvik\n",
            "P3007 Tanmoy\n",
            "P3008 Arijit\n",
            "P3009 Shivansh\n",
            "P3010 Elvin\n",
            "P3011 Kabir\n",
            "P3012 Joseph\n",
            "P4001 William\n",
            "P4002 James\n",
            "P4003 Issac\n",
            "P4004 Max\n",
            "P4005 Teddy\n",
            "P4006 Finley\n",
            "P4007 Jack\n",
            "P4008 henry\n",
            "P4009 Harry\n",
            "P4010 Charlie\n",
            "P4011 George\n",
            "P4012 Alexander\n",
            "P5001 Mark\n",
            "P5002 Donald\n",
            "P5003 Steven\n",
            "P5004 Paul\n",
            "P5005 Andrew\n",
            "P5006 Joshua\n",
            "P5007 Kevin\n",
            "P5008 Charles\n",
            "P5009 George\n",
            "P5010 Stephen\n",
            "P5011 Jack\n",
            "P5012 Jerry\n",
            "P6001 Mark\n",
            "P6002 Robert\n",
            "P6003 Michael\n",
            "P6004 David\n",
            "P6005 Daniel\n",
            "P6006 Charles\n",
            "P6007 Kevin\n",
            "P6008 Mathew\n",
            "P6009 Mark\n",
            "P6010 Anthony\n",
            "P6011 Donald\n",
            "P6012 Steven\n"
          ]
        }
      ],
      "source": [
        "#establish connection and then pass the credentials of user name, password , port and host.\n",
        "conn = None\n",
        "try:\n",
        "  conn = psycopg2.connect(database=database,user=user,password = password,port=port,host=host)\n",
        "  print(\"Connection Successful!\")\n",
        "  cur = conn.cursor()\n",
        "  cur.execute(\"select * from players\")\n",
        "  result = cur.fetchall()\n",
        "  print(result)\n",
        "  print(\"Size of result tuple: \",len(result[0]))\n",
        "  for i in result:\n",
        "    print(i[0],i[1])\n",
        "  \n",
        "except(Exception,psycopg2.DatabaseError) as error:  \n",
        "  print(error)\n",
        "\n",
        "finally:\n",
        "  if conn is not None:\n",
        "    conn.close()\n"
      ]
    },
    {
      "cell_type": "markdown",
      "metadata": {
        "id": "cAQ0R3EOYGFm"
      },
      "source": [
        "# Previous year Questions on PythonDB Connectivity"
      ]
    },
    {
      "cell_type": "markdown",
      "metadata": {},
      "source": [
        "#### Practise Q3 Output Jersey_no\n"
      ]
    },
    {
      "cell_type": "code",
      "execution_count": 44,
      "metadata": {
        "id": "T0hKEFvMDiuz"
      },
      "outputs": [],
      "source": [
        "\n",
        "import psycopg2, sys, os\n",
        "f = open('./player.txt','r')\n",
        "name = f.read()\n",
        "#name = name + \"%\" query for like \n",
        "\n",
        "\n",
        "database = 'flis'\n",
        "user = 'postgres'\n",
        "password = 'sidjadhav0602'\n",
        "port = '5432'\n",
        "host = 'localhost'\n",
        "\n",
        "conn = None\n",
        "try:\n",
        "    conn = psycopg2.connect(database=database,user=user,password=password,port=port,host=host)\n",
        "    cur = conn.cursor()\n",
        "    cur.execute(\"select name from players where name =%s\",(name,))\n",
        "    #query for is Like : \n",
        "    # cur.execute(\"select name from players where name like %s \",(name,))\n",
        "    result = cur.fetchall()\n",
        "    for i in result:\n",
        "        print(i[0])\n",
        "    cur.close()\n",
        "except(Exception,psycopg2.DatabaseError) as error:\n",
        "    print(error)\n",
        "finally:\n",
        "    if conn is not None:\n",
        "        conn.close()"
      ]
    },
    {
      "cell_type": "markdown",
      "metadata": {},
      "source": [
        "#### Practice Q4: \n"
      ]
    },
    {
      "cell_type": "code",
      "execution_count": 74,
      "metadata": {},
      "outputs": [
        {
          "name": "stdout",
          "output_type": "stream",
          "text": [
            "Connection is Established!\n",
            "relation \"students\" does not exist\n",
            "LINE 1: select roll_no from students where student_fname= 'Vikas\n",
            "                            ^\n",
            "\n"
          ]
        }
      ],
      "source": [
        "f= open('./name.txt')\n",
        "f_name = f.read()\n",
        "\n",
        "\n",
        "database = 'university'\n",
        "user = 'postgres'\n",
        "password = 'sidjadhav0602'\n",
        "port = '5432'\n",
        "host = 'localhost'\n",
        "\n",
        "conn = None\n",
        "try: \n",
        "    conn = psycopg2.connect(database=database,user=user,password=password,port=port,host=host)\n",
        "    print(\"Connection is Established!\")\n",
        "\n",
        "    cur = conn.cursor()\n",
        "    cur.execute(\"select roll_no from students where student_fname= %s\",(f_name,))\n",
        "\n",
        "    result = cur.fetchall()\n",
        "    for i in result:\n",
        "        print(i[0])\n",
        "    \n",
        "    cur.close()\n",
        "except(Exception,psycopg2.DatabaseError) as error:\n",
        "    print(error)\n",
        "finally:\n",
        "    if conn is not None:\n",
        "        conn.close()"
      ]
    },
    {
      "cell_type": "code",
      "execution_count": null,
      "metadata": {},
      "outputs": [],
      "source": []
    }
  ],
  "metadata": {
    "colab": {
      "provenance": []
    },
    "kernelspec": {
      "display_name": "Python 3",
      "name": "python3"
    },
    "language_info": {
      "codemirror_mode": {
        "name": "ipython",
        "version": 3
      },
      "file_extension": ".py",
      "mimetype": "text/x-python",
      "name": "python",
      "nbconvert_exporter": "python",
      "pygments_lexer": "ipython3",
      "version": "3.11.2"
    }
  },
  "nbformat": 4,
  "nbformat_minor": 0
}
